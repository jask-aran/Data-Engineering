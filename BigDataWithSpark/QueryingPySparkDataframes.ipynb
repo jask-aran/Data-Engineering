{
 "cells": [
  {
   "cell_type": "code",
   "execution_count": 15,
   "metadata": {},
   "outputs": [],
   "source": [
    "from pyspark.sql import SparkSession\n",
    "\n",
    "# Create a New SparkSession\n",
    "spark = SparkSession \\\n",
    "    .builder \\\n",
    "    .appName(\"learning_spark_sql\") \\\n",
    "    .getOrCreate()\n",
    "\n",
    "# Read in Wikipedia Unique Visitors Dataset\n",
    "wiki_uniq_df = spark.read\\\n",
    "    .option('header', True) \\\n",
    "    .option('delimiter', ',') \\\n",
    "    .option('inferSchema', True) \\\n",
    "    .csv(\"wiki_uniq_march_2022_w_site_type.csv\")"
   ]
  },
  {
   "cell_type": "code",
   "execution_count": 17,
   "metadata": {},
   "outputs": [
    {
     "name": "stdout",
     "output_type": "stream",
     "text": [
      "+--------------------+-------------------+-----------------+-------------------+-------------+-----------+\n",
      "|              domain|uniq_human_visitors|uniq_bot_visitors|total_visitor_count|language_code|  site_type|\n",
      "+--------------------+-------------------+-----------------+-------------------+-------------+-----------+\n",
      "|  ar.m.wikipedia.org|            1644253|           750620|            2394873|           ar|  wikipedia|\n",
      "|    ar.wikipedia.org|             212695|            97700|             310395|           ar|  wikipedia|\n",
      "| ar.m.wikisource.org|              56124|            52885|             109009|           ar| wikisource|\n",
      "|   ar.wikisource.org|               2134|             4355|               6489|           ar| wikisource|\n",
      "|  ar.m.wikiquote.org|                776|             3511|               4287|           ar|  wikiquote|\n",
      "|   ar.wiktionary.org|                262|             2335|               2597|           ar| wiktionary|\n",
      "| ar.m.wiktionary.org|                448|             1577|               2025|           ar| wiktionary|\n",
      "|ar.m.wikiversity.org|                389|              958|               1347|           ar|wikiversity|\n",
      "|  ar.m.wikibooks.org|                378|              855|               1233|           ar|  wikibooks|\n",
      "+--------------------+-------------------+-----------------+-------------------+-------------+-----------+\n",
      "\n"
     ]
    }
   ],
   "source": [
    "ar_site_visitors = wiki_uniq_df.filter(wiki_uniq_df.language_code == 'ar')\n",
    "ar_site_visitors.show()"
   ]
  },
  {
   "cell_type": "code",
   "execution_count": 19,
   "metadata": {},
   "outputs": [
    {
     "name": "stdout",
     "output_type": "stream",
     "text": [
      "+--------------------+-------------------+\n",
      "|              domain|uniq_human_visitors|\n",
      "+--------------------+-------------------+\n",
      "|  ar.m.wikipedia.org|            1644253|\n",
      "|    ar.wikipedia.org|             212695|\n",
      "| ar.m.wikisource.org|              56124|\n",
      "|   ar.wikisource.org|               2134|\n",
      "|  ar.m.wikiquote.org|                776|\n",
      "|   ar.wiktionary.org|                262|\n",
      "| ar.m.wiktionary.org|                448|\n",
      "|ar.m.wikiversity.org|                389|\n",
      "|  ar.m.wikibooks.org|                378|\n",
      "+--------------------+-------------------+\n",
      "\n"
     ]
    }
   ],
   "source": [
    "ar_visitors_slim = wiki_uniq_df.filter(wiki_uniq_df.language_code == 'ar')\\\n",
    "    .select(['domain', 'uniq_human_visitors'])\n",
    "ar_visitors_slim.show()"
   ]
  },
  {
   "cell_type": "code",
   "execution_count": 23,
   "metadata": {},
   "outputs": [
    {
     "name": "stdout",
     "output_type": "stream",
     "text": [
      "+-----------+------------------------+\n",
      "|  site_type|sum(uniq_human_visitors)|\n",
      "+-----------+------------------------+\n",
      "|  wikipedia|               116527479|\n",
      "| wiktionary|                  892193|\n",
      "|  wikimedia|                  312995|\n",
      "| wikisource|                  172179|\n",
      "|   wikidata|                   69744|\n",
      "|  wikibooks|                   54680|\n",
      "|  wikiquote|                   38048|\n",
      "| wikivoyage|                   14648|\n",
      "|       wiki|                   13067|\n",
      "|wikiversity|                   12548|\n",
      "|   wikinews|                    5578|\n",
      "|   wikitech|                     751|\n",
      "+-----------+------------------------+\n",
      "\n"
     ]
    }
   ],
   "source": [
    "top_visitors_site_type = wiki_uniq_df.select(['site_type', 'uniq_human_visitors'])\\\n",
    "    .groupBy('site_type')\\\n",
    "    .sum()\\\n",
    "    .orderBy('sum(uniq_human_visitors)', ascending=False)\n",
    "\n",
    "top_visitors_site_type.show()"
   ]
  },
  {
   "cell_type": "code",
   "execution_count": 26,
   "metadata": {},
   "outputs": [],
   "source": [
    "wiki_uniq_df.createOrReplaceTempView('uniq_visitors_march')"
   ]
  },
  {
   "cell_type": "code",
   "execution_count": 28,
   "metadata": {},
   "outputs": [
    {
     "name": "stdout",
     "output_type": "stream",
     "text": [
      "+--------------------+-------------------+-----------------+-------------------+-------------+-----------+\n",
      "|domain              |uniq_human_visitors|uniq_bot_visitors|total_visitor_count|language_code|site_type  |\n",
      "+--------------------+-------------------+-----------------+-------------------+-------------+-----------+\n",
      "|ar.m.wikipedia.org  |1644253            |750620           |2394873            |ar           |wikipedia  |\n",
      "|ar.wikipedia.org    |212695             |97700            |310395             |ar           |wikipedia  |\n",
      "|ar.m.wikisource.org |56124              |52885            |109009             |ar           |wikisource |\n",
      "|ar.wikisource.org   |2134               |4355             |6489               |ar           |wikisource |\n",
      "|ar.m.wikiquote.org  |776                |3511             |4287               |ar           |wikiquote  |\n",
      "|ar.wiktionary.org   |262                |2335             |2597               |ar           |wiktionary |\n",
      "|ar.m.wiktionary.org |448                |1577             |2025               |ar           |wiktionary |\n",
      "|ar.m.wikiversity.org|389                |958              |1347               |ar           |wikiversity|\n",
      "|ar.m.wikibooks.org  |378                |855              |1233               |ar           |wikibooks  |\n",
      "+--------------------+-------------------+-----------------+-------------------+-------------+-----------+\n",
      "\n"
     ]
    }
   ],
   "source": [
    "ar_site_visitors_qry = \"\"\"\n",
    "    SELECT * FROM uniq_visitors_march\n",
    "    WHERE language_code = 'ar';\n",
    "\"\"\"\n",
    " \n",
    "# show the DataFrame\n",
    "spark\\\n",
    "    .sql(ar_site_visitors_qry)\\\n",
    "    .show(truncate=False)"
   ]
  },
  {
   "cell_type": "code",
   "execution_count": null,
   "metadata": {},
   "outputs": [],
   "source": []
  }
 ],
 "metadata": {
  "kernelspec": {
   "display_name": "base",
   "language": "python",
   "name": "python3"
  },
  "language_info": {
   "name": "python",
   "version": "3.9.13"
  },
  "orig_nbformat": 4
 },
 "nbformat": 4,
 "nbformat_minor": 2
}
