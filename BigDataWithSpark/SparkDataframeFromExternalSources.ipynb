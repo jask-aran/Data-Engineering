{
 "cells": [
  {
   "attachments": {},
   "cell_type": "markdown",
   "metadata": {},
   "source": [
    "## Dataframes from external sources\n",
    "- Create dataframes from csv sources"
   ]
  },
  {
   "cell_type": "code",
   "execution_count": 5,
   "metadata": {},
   "outputs": [],
   "source": [
    "from pyspark.sql import SparkSession\n",
    "\n",
    "# Create a new SparkSession\n",
    "spark = SparkSession\\\n",
    "    .builder\\\n",
    "    .config('spark.app.name', 'learning_spark_sql')\\\n",
    "    .getOrCreate()"
   ]
  },
  {
   "cell_type": "code",
   "execution_count": 6,
   "metadata": {},
   "outputs": [
    {
     "name": "stdout",
     "output_type": "stream",
     "text": [
      "+------------------+-------------------+-----------------+-------------------+\n",
      "|_c0               |_c1                |_c2              |_c3                |\n",
      "+------------------+-------------------+-----------------+-------------------+\n",
      "|domain            |uniq_human_visitors|uniq_bot_visitors|total_visitor_count|\n",
      "|en.m.wikipedia.org|33261399           |8400247          |41661646           |\n",
      "|en.wikipedia.org  |17009339           |4851741          |21861080           |\n",
      "|es.m.wikipedia.org|5668575            |1977289          |7645864            |\n",
      "|ru.m.wikipedia.org|5816762            |1367179          |7183941            |\n",
      "|ja.m.wikipedia.org|5396108            |1325212          |6721320            |\n",
      "|de.m.wikipedia.org|4439596            |853251           |5292847            |\n",
      "|fr.m.wikipedia.org|3798528            |904567           |4703095            |\n",
      "|ru.wikipedia.org  |2852296            |687501           |3539797            |\n",
      "|es.wikipedia.org  |2460489            |962516           |3423005            |\n",
      "+------------------+-------------------+-----------------+-------------------+\n",
      "only showing top 10 rows\n",
      "\n"
     ]
    }
   ],
   "source": [
    "wiki_uniq_df = spark.read.csv('wiki_uniq_march_2022.csv')\n",
    "wiki_uniq_df.show(10, truncate=False)"
   ]
  },
  {
   "cell_type": "code",
   "execution_count": 7,
   "metadata": {},
   "outputs": [
    {
     "name": "stdout",
     "output_type": "stream",
     "text": [
      "+------------------+-------------------+-----------------+-------------------+\n",
      "|domain            |uniq_human_visitors|uniq_bot_visitors|total_visitor_count|\n",
      "+------------------+-------------------+-----------------+-------------------+\n",
      "|en.m.wikipedia.org|33261399           |8400247          |41661646           |\n",
      "|en.wikipedia.org  |17009339           |4851741          |21861080           |\n",
      "|es.m.wikipedia.org|5668575            |1977289          |7645864            |\n",
      "|ru.m.wikipedia.org|5816762            |1367179          |7183941            |\n",
      "|ja.m.wikipedia.org|5396108            |1325212          |6721320            |\n",
      "|de.m.wikipedia.org|4439596            |853251           |5292847            |\n",
      "|fr.m.wikipedia.org|3798528            |904567           |4703095            |\n",
      "|ru.wikipedia.org  |2852296            |687501           |3539797            |\n",
      "|es.wikipedia.org  |2460489            |962516           |3423005            |\n",
      "|it.m.wikipedia.org|2806943            |566876           |3373819            |\n",
      "+------------------+-------------------+-----------------+-------------------+\n",
      "only showing top 10 rows\n",
      "\n"
     ]
    }
   ],
   "source": [
    "wiki_uniq_w_header_df = spark.read.option('header', True).csv('wiki_uniq_march_2022.csv')\n",
    "wiki_uniq_w_header_df.show(10, truncate = False)"
   ]
  },
  {
   "cell_type": "code",
   "execution_count": 8,
   "metadata": {},
   "outputs": [
    {
     "data": {
      "text/plain": [
       "[('domain', 'string'),\n",
       " ('uniq_human_visitors', 'string'),\n",
       " ('uniq_bot_visitors', 'string'),\n",
       " ('total_visitor_count', 'string')]"
      ]
     },
     "execution_count": 8,
     "metadata": {},
     "output_type": "execute_result"
    }
   ],
   "source": [
    "# show the data types\n",
    "wiki_uniq_w_header_df.dtypes"
   ]
  },
  {
   "cell_type": "code",
   "execution_count": 9,
   "metadata": {},
   "outputs": [
    {
     "data": {
      "text/plain": [
       "[('domain', 'string'),\n",
       " ('uniq_human_visitors', 'int'),\n",
       " ('uniq_bot_visitors', 'int'),\n",
       " ('total_visitor_count', 'int')]"
      ]
     },
     "execution_count": 9,
     "metadata": {},
     "output_type": "execute_result"
    }
   ],
   "source": [
    "wiki_uniq_w_schema_df = spark.read.option('inferSchema', True).option('header', True).csv('wiki_uniq_march_2022.csv')\n",
    "\n",
    "# show the data types\n",
    "wiki_uniq_w_schema_df.dtypes"
   ]
  }
 ],
 "metadata": {
  "kernelspec": {
   "display_name": "base",
   "language": "python",
   "name": "python3"
  },
  "language_info": {
   "codemirror_mode": {
    "name": "ipython",
    "version": 3
   },
   "file_extension": ".py",
   "mimetype": "text/x-python",
   "name": "python",
   "nbconvert_exporter": "python",
   "pygments_lexer": "ipython3",
   "version": "3.9.13"
  },
  "orig_nbformat": 4
 },
 "nbformat": 4,
 "nbformat_minor": 2
}
