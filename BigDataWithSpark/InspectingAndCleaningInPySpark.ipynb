{
 "cells": [
  {
   "cell_type": "code",
   "execution_count": 1,
   "metadata": {},
   "outputs": [],
   "source": [
    "from pyspark.sql import SparkSession\n",
    "\n",
    "spark = SparkSession \\\n",
    "    .builder \\\n",
    "    .appName(\"learning_spark_sql\") \\\n",
    "    .getOrCreate()\n",
    "\n",
    "# read in the Wikipedia unique visitors dataset\n",
    "uniq_views_df = spark.read\\\n",
    "    .option('header', True) \\\n",
    "    .option('delimiter', ',') \\\n",
    "    .option('inferSchema', True) \\\n",
    "    .csv(\"wiki_uniq_march_2022.csv\")"
   ]
  },
  {
   "cell_type": "code",
   "execution_count": 3,
   "metadata": {},
   "outputs": [
    {
     "name": "stdout",
     "output_type": "stream",
     "text": [
      "root\n",
      " |-- domain: string (nullable = true)\n",
      " |-- uniq_human_visitors: integer (nullable = true)\n",
      " |-- uniq_bot_visitors: integer (nullable = true)\n",
      " |-- total_visitor_count: integer (nullable = true)\n",
      "\n"
     ]
    }
   ],
   "source": [
    "uniq_views_df.printSchema()"
   ]
  },
  {
   "cell_type": "code",
   "execution_count": 5,
   "metadata": {},
   "outputs": [
    {
     "name": "stdout",
     "output_type": "stream",
     "text": [
      "+-------+----------------+-------------------+-----------------+-------------------+\n",
      "|summary|domain          |uniq_human_visitors|uniq_bot_visitors|total_visitor_count|\n",
      "+-------+----------------+-------------------+-----------------+-------------------+\n",
      "|count  |760             |760                |760              |760                |\n",
      "|mean   |null            |155413.0394736842  |51431.0552631579 |206844.09473684212 |\n",
      "|stddev |null            |1435327.5409314982 |376318.441663093 |1809320.9789242456 |\n",
      "|min    |aa.wikibooks.org|0                  |170              |1005               |\n",
      "|max    |zu.wikipedia.org|33261399           |8400247          |41661646           |\n",
      "+-------+----------------+-------------------+-----------------+-------------------+\n",
      "\n"
     ]
    }
   ],
   "source": [
    "uniq_views_df_desc = uniq_views_df.describe()\n",
    "uniq_views_df_desc.show(truncate=False)"
   ]
  },
  {
   "cell_type": "code",
   "execution_count": 8,
   "metadata": {},
   "outputs": [
    {
     "name": "stdout",
     "output_type": "stream",
     "text": [
      "+------------------+-------------------+\n",
      "|domain            |uniq_human_visitors|\n",
      "+------------------+-------------------+\n",
      "|en.m.wikipedia.org|33261399           |\n",
      "|en.wikipedia.org  |17009339           |\n",
      "|es.m.wikipedia.org|5668575            |\n",
      "|ru.m.wikipedia.org|5816762            |\n",
      "|ja.m.wikipedia.org|5396108            |\n",
      "+------------------+-------------------+\n",
      "only showing top 5 rows\n",
      "\n"
     ]
    }
   ],
   "source": [
    "uniq_counts_human_df = uniq_views_df.drop('total_visitor_count', 'uniq_bot_visitors')\n",
    "uniq_counts_human_df.show(5, truncate=False)"
   ]
  },
  {
   "cell_type": "code",
   "execution_count": 9,
   "metadata": {},
   "outputs": [
    {
     "name": "stdout",
     "output_type": "stream",
     "text": [
      "+------------------+--------------------+\n",
      "|domain            |unique_site_visitors|\n",
      "+------------------+--------------------+\n",
      "|en.m.wikipedia.org|33261399            |\n",
      "|en.wikipedia.org  |17009339            |\n",
      "|es.m.wikipedia.org|5668575             |\n",
      "|ru.m.wikipedia.org|5816762             |\n",
      "|ja.m.wikipedia.org|5396108             |\n",
      "+------------------+--------------------+\n",
      "only showing top 5 rows\n",
      "\n"
     ]
    }
   ],
   "source": [
    "uniq_counts_final_df = uniq_counts_human_df.withColumnRenamed('uniq_human_visitors', 'unique_site_visitors')\n",
    "uniq_counts_final_df.show(5, truncate=False)"
   ]
  }
 ],
 "metadata": {
  "kernelspec": {
   "display_name": "base",
   "language": "python",
   "name": "python3"
  },
  "language_info": {
   "codemirror_mode": {
    "name": "ipython",
    "version": 3
   },
   "file_extension": ".py",
   "mimetype": "text/x-python",
   "name": "python",
   "nbconvert_exporter": "python",
   "pygments_lexer": "ipython3",
   "version": "3.9.13"
  },
  "orig_nbformat": 4
 },
 "nbformat": 4,
 "nbformat_minor": 2
}
